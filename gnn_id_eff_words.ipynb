{
 "cells": [
  {
   "cell_type": "code",
   "execution_count": 1,
   "metadata": {},
   "outputs": [
    {
     "name": "stderr",
     "output_type": "stream",
     "text": [
      "/Users/alessio/opt/anaconda3/envs/gnn_id/lib/python3.9/site-packages/tqdm/auto.py:22: TqdmWarning: IProgress not found. Please update jupyter and ipywidgets. See https://ipywidgets.readthedocs.io/en/stable/user_install.html\n",
      "  from .autonotebook import tqdm as notebook_tqdm\n"
     ]
    }
   ],
   "source": [
    "import seaborn as sns\n",
    "import torch\n",
    "import torch_geometric\n",
    "import pandas as pd\n",
    "from utils import make_path, histogram_data_saver\n",
    "import matplotlib.pyplot as plt\n",
    "from dataset_gen import dataset_generator\n",
    "from train import training\n",
    "\n",
    "import json\n",
    "\n",
    "\n",
    "device = torch.device('cuda:1' if torch.cuda.is_available() else 'cpu')"
   ]
  },
  {
   "cell_type": "code",
   "execution_count": 2,
   "metadata": {},
   "outputs": [],
   "source": [
    "def main_letters(gnn_type, num_layers, num_reps, epochs, hd, lr, encoding_list, distributed_bits, dim_red, path, device, early):\n",
    "    raw_data = []\n",
    "    histogram_data = []\n",
    "    for enc in encoding_list:\n",
    "        print(enc)\n",
    "        for num_l in num_layers:\n",
    "            print(f'Number of layers: {num_l}')\n",
    "            for it in range(num_reps):\n",
    "                #seed manual setting\n",
    "                torch_geometric.seed.seed_everything(it*100)\n",
    "                data_dict = dataset_generator(dataset=enc, distributed_bits= distributed_bits, dim_red=dim_red)\n",
    "                model, raw_data = training(gnn_type, data_dict, enc, hd, lr, num_l, epochs, it, raw_data, device, path=path, early=early)\n",
    "                histogram_data = histogram_data_saver(histogram_data, data_dict, model, enc, it, num_l, device)\n",
    "\n",
    "    data = pd.DataFrame.from_records(raw_data)\n",
    "    data.to_csv(path+'data')\n",
    "    histogram_pd = pd.DataFrame.from_records(histogram_data)\n",
    "    histogram_pd.to_csv(path+'histogram')\n",
    "    return data, histogram_pd"
   ]
  },
  {
   "cell_type": "code",
   "execution_count": null,
   "metadata": {},
   "outputs": [],
   "source": [
    "json_path = 'params_letters.json'\n",
    "# Call parameters from json file\n",
    "with open(json_path) as f:\n",
    "    params = json.load(f)\n",
    "num_reps = params['num_reps']\n",
    "gnn_type = params['gnn_type']\n",
    "min_num_layers = params['min_num_layers']\n",
    "max_num_layers = params['max_num_layers']\n",
    "layers =[i for i in range(min_num_layers, max_num_layers+1)]\n",
    "epochs = params['epochs']\n",
    "hd = params['hd']\n",
    "lr = params['lr']\n",
    "experiment_type = params['exp_type']\n",
    "distributed_bits =params['distributed_bits']\n",
    "dim_red = params['dim_red']\n",
    "early: bool = params['early']\n",
    "\n",
    "#path generator: determined on day of execution\n",
    "path = make_path('words/'+experiment_type, gnn_type)\n",
    "#save config in txt\n",
    "config_json = pd.read_json(json_path, typ='series')\n",
    "config_json.to_csv(path+'config.txt')\n",
    "\n",
    "\n",
    "encoding_list = ['one-hot', 'haar', 'distributed', 'gaussian']\n",
    "\n",
    "\n",
    "data, histogram = main_letters(gnn_type, layers, num_reps, epochs, hd, lr, \n",
    "                               encoding_list, distributed_bits, dim_red, path, device, early)\n",
    "for l in layers:\n",
    "    data_l = data[data['num_layers']==l]\n",
    "    histogram_l = histogram[histogram['num_layers']==l]\n",
    "    #sns.lineplot(data=data_l, x='epoch', y='test_loss')\n",
    "    sns.lineplot(data=data_l, x='epoch', y='test_loss', hue='dataset')\n",
    "    plt.savefig(path+'test_loss/test_loss_'+str(l)+'_layers.png')\n",
    "    plt.close()\n",
    "\n",
    "    #sns.catplot(data=histogram_l, kind='bar', x='word', y='rating')\n",
    "    sns.catplot(data=histogram_l, kind='bar', x='word', y='rating', hue='dataset')\n",
    "    plt.savefig(path+'hist/hist_'+str(l)+'_layers.png')\n",
    "    plt.close()"
   ]
  }
 ],
 "metadata": {
  "kernelspec": {
   "display_name": "gnn_id",
   "language": "python",
   "name": "python3"
  },
  "language_info": {
   "codemirror_mode": {
    "name": "ipython",
    "version": 3
   },
   "file_extension": ".py",
   "mimetype": "text/x-python",
   "name": "python",
   "nbconvert_exporter": "python",
   "pygments_lexer": "ipython3",
   "version": "3.9.16"
  },
  "orig_nbformat": 4
 },
 "nbformat": 4,
 "nbformat_minor": 2
}
