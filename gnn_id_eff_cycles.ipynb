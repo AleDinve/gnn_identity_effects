{
 "cells": [
  {
   "cell_type": "code",
   "execution_count": 15,
   "metadata": {},
   "outputs": [],
   "source": [
    "import seaborn as sns\n",
    "import torch\n",
    "import torch_geometric\n",
    "import numpy as np\n",
    "import pandas as pd\n",
    "from utils import histogram_dicyclic_saver, plot_saved_data, make_path, save_tensors, prediction\n",
    "import matplotlib.pyplot as plt\n",
    "from dataset_gen import *\n",
    "from train import training\n",
    "import os\n",
    "import json\n",
    "\n",
    "device = torch.device('cuda:0' if torch.cuda.is_available() else 'cpu')\n",
    "json_path = 'params_dicyclic.json'\n",
    "with open(json_path) as f:\n",
    "        params = json.load(f)"
   ]
  },
  {
   "cell_type": "code",
   "execution_count": 16,
   "metadata": {},
   "outputs": [],
   "source": [
    "num_reps = params['num_reps']\n",
    "n_max = params['n_max']\n",
    "min_num_layers = params['min_num_layers']\n",
    "max_num_layers = params['max_num_layers']\n",
    "layers =[i for i in range(min_num_layers, max_num_layers+1)]\n",
    "epochs = params['epochs']\n",
    "hd = params['hd']\n",
    "lr = params['lr']\n",
    "enc = 'dicyclic'\n",
    "gnn_type = 'gconv_diff'\n",
    "gap = params['gap']\n",
    "early = params['early']\n",
    "k = params['k']"
   ]
  },
  {
   "cell_type": "code",
   "execution_count": 17,
   "metadata": {},
   "outputs": [],
   "source": [
    "path = make_path('cycles', gnn_type)\n",
    "#save config in txt\n",
    "config_json = pd.read_json(json_path, typ='series')\n",
    "config_json.to_csv(path+'config.txt')"
   ]
  },
  {
   "cell_type": "code",
   "execution_count": 18,
   "metadata": {},
   "outputs": [],
   "source": [
    "if not os.path.exists(path):\n",
    "        os.makedirs(path)\n",
    "if gap>0:\n",
    "    data_dict = get_complete_dataset_gap(n_max, gap)\n",
    "else:\n",
    "    data_dict = extraction_task_dataset(n_max, k)"
   ]
  },
  {
   "cell_type": "code",
   "execution_count": 19,
   "metadata": {},
   "outputs": [
    {
     "name": "stdout",
     "output_type": "stream",
     "text": [
      "Number of layers: 8\n",
      "1-th iteration\n",
      "Stopped on Epoch 4 with train accuracy 80.0% and test accuracy 83.33333333333333%\n",
      "Number of layers: 9\n",
      "1-th iteration\n",
      "Stopped on Epoch 3 with train accuracy 100.0% and test accuracy 100.0%\n"
     ]
    },
    {
     "ename": "",
     "evalue": "",
     "output_type": "error",
     "traceback": [
      "\u001b[1;31mSi è verificato un arresto anomalo del kernel durante l'esecuzione del codice nella cella attiva o in una cella precedente. Esaminare il codice nelle celle per identificare una possibile causa dell'errore. Per altre informazioni, fare clic su <a href='https://aka.ms/vscodeJupyterKernelCrash'>here</a>. Per altri dettagli, vedere Jupyter <a href='command:jupyter.viewOutput'>log</a>."
     ]
    }
   ],
   "source": [
    "for num_l in layers:\n",
    "    df_data = []\n",
    "    raw_data = []\n",
    "    print(f'Number of layers: {num_l}')\n",
    "    \n",
    "    for it in range(num_reps):       \n",
    "        print(str(it+1)+'-th iteration')     \n",
    "        #seed manual setting\n",
    "        torch_geometric.seed.seed_everything(it*100)\n",
    "        #data_dict = dataset_generator(dataset='dicyclic', n_max = n_max, take_random=take_random)\n",
    "        \n",
    "        model, raw_data = training(gnn_type, data_dict, 'dicyclic', hd, lr, num_l, epochs, it, raw_data, device, path, early=early)\n",
    "        data_loader = data_dict['test_loader_nobatch']\n",
    "\n",
    "        iter_dl = iter(data_loader)\n",
    "        for i in range(3,n_max+gap+1):\n",
    "            for j in range(i,n_max+gap+1):\n",
    "                data = next(iter_dl).to(device)\n",
    "                y,_ = model(data.x, data.edge_index, data.batch)              \n",
    "                df_data.append({'1st_cycle':i,'2nd_cycle':j,'rating': float(y), 'it': it+1, 'num_layers':num_l})\n",
    "                if j!=i:\n",
    "                    df_data.append({'1st_cycle':j,'2nd_cycle':i,'rating': float(y), 'it': it+1, 'num_layers':num_l})\n",
    "    df = pd.DataFrame.from_records(df_data)\n",
    "    df.to_csv(path+'trial_nmax_'+str(n_max-2)+'_gap_'+str(gap+2)+'_'+str(num_l)+'_layers.csv')\n",
    "    plot_saved_data(path = path, file_name = None, online=False, df=df, num_l = num_l)"
   ]
  },
  {
   "cell_type": "code",
   "execution_count": null,
   "metadata": {},
   "outputs": [],
   "source": []
  }
 ],
 "metadata": {
  "kernelspec": {
   "display_name": "gnn_id",
   "language": "python",
   "name": "python3"
  },
  "language_info": {
   "codemirror_mode": {
    "name": "ipython",
    "version": 3
   },
   "file_extension": ".py",
   "mimetype": "text/x-python",
   "name": "python",
   "nbconvert_exporter": "python",
   "pygments_lexer": "ipython3",
   "version": "3.9.16"
  },
  "orig_nbformat": 4
 },
 "nbformat": 4,
 "nbformat_minor": 2
}
