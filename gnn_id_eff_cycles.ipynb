{
 "cells": [
  {
   "cell_type": "code",
   "execution_count": null,
   "metadata": {},
   "outputs": [],
   "source": [
    "\n",
    "import seaborn as sns\n",
    "import torch\n",
    "import torch_geometric\n",
    "import numpy as np\n",
    "import pandas as pd\n",
    "from utils import histogram_dicyclic_saver, plot_saved_data, make_path, save_tensors, prediction\n",
    "import matplotlib.pyplot as plt\n",
    "from dataset_gen import *\n",
    "from train import training\n",
    "import os\n",
    "import json\n",
    "\n",
    "device = torch.device('cuda' if torch.cuda.is_available() else 'cpu')"
   ]
  },
  {
   "cell_type": "code",
   "execution_count": null,
   "metadata": {},
   "outputs": [],
   "source": [
    "# importing parameters from json config file\n",
    "json_path = 'params_dicyclic.json'\n",
    "\n",
    "with open(json_path) as f:\n",
    "        params = json.load(f)\n",
    "num_reps = params['num_reps']\n",
    "n_max = params['n_max']\n",
    "min_num_layers = params['min_num_layers']\n",
    "max_num_layers = params['max_num_layers']\n",
    "layers =[i for i in range(min_num_layers, max_num_layers+1)]\n",
    "epochs = params['epochs']\n",
    "hd = params['hd']\n",
    "lr = params['lr']\n",
    "k = params['k']\n",
    "gap = params['gap']\n",
    "experiment_type = params['exp_type']\n",
    "early = params['early']\n",
    "gnn_types = ['gconv_diff', 'gconv_glob']"
   ]
  },
  {
   "cell_type": "code",
   "execution_count": null,
   "metadata": {},
   "outputs": [],
   "source": [
    "for num_l in layers:\n",
    "    df_data = []\n",
    "    print(f'Number of layers: {num_l}')\n",
    "    for gnn_type in gnn_types:\n",
    "        #selection of task: depends on gap and k\n",
    "        if gap>0:\n",
    "            path = make_path('cycles/'+experiment_type+'/extrap', gnn_type)\n",
    "        else:\n",
    "            path = make_path('cycles/'+experiment_type+'/extraction', gnn_type)\n",
    "        config_json = pd.read_json(json_path, typ='series')\n",
    "        config_json.to_csv(path+'config.txt')\n",
    "        raw_data = []           \n",
    "        for it in range(num_reps):    \n",
    "            sep_vec = True   \n",
    "            print(str(it+1)+'-th iteration')  \n",
    "\n",
    "            #seed manual setting\n",
    "            torch_geometric.seed.seed_everything(it*100+10)\n",
    "            if gap>0:\n",
    "                data_dict = get_complete_dataset_gap(n_max, gap)\n",
    "            else:\n",
    "                data_dict = extraction_task_dataset(n_max, k)\n",
    "            \n",
    "            model, raw_data = training(gnn_type, data_dict, 'dicyclic', hd, lr, num_l, \n",
    "                                       epochs, it, raw_data, device=device, path=path, early=early)\n",
    "            \n",
    "            data_loader = data_dict['test_loader_nobatch']\n",
    "            iter_dl = iter(data_loader)\n",
    "\n",
    "        df_data = prediction(model, hd, n_max, gap, gnn_type, iter_dl, sep_vec, df_data, device, path, num_l, it)\n",
    "        df = pd.DataFrame.from_records(df_data)\n",
    "        df.to_csv(path+'trial_nmax_'+str(n_max-2)+'_gap_'+str(gap+2)+'_'+str(num_l)+'_layers.csv')\n",
    "        plot_saved_data(path = path, file_name = None, online=False, df=df, num_l = num_l)\n",
    "\n",
    "    data = pd.DataFrame.from_records(raw_data)\n",
    "    data.to_csv(path+'dicyclic_data')\n",
    "    sns.lineplot(data=data, x='epoch', y='test_loss', hue='num_layers')\n",
    "    \n",
    "    plt.savefig(path+'test_loss/test_loss_dicyclic.png')\n",
    "    plt.close()"
   ]
  }
 ],
 "metadata": {
  "kernelspec": {
   "display_name": "gnn_id",
   "language": "python",
   "name": "python3"
  },
  "language_info": {
   "codemirror_mode": {
    "name": "ipython",
    "version": 3
   },
   "file_extension": ".py",
   "mimetype": "text/x-python",
   "name": "python",
   "nbconvert_exporter": "python",
   "pygments_lexer": "ipython3",
   "version": "3.9.16"
  },
  "orig_nbformat": 4
 },
 "nbformat": 4,
 "nbformat_minor": 2
}
