{
 "cells": [
  {
   "cell_type": "code",
   "execution_count": 1,
   "metadata": {},
   "outputs": [],
   "source": [
    "import numpy as np"
   ]
  },
  {
   "cell_type": "code",
   "execution_count": 2,
   "metadata": {},
   "outputs": [],
   "source": [
    "encodings = []\n",
    "dim = 8\n",
    "mean = np.zeros((dim))\n",
    "cov = np.eye(dim,dim)\n",
    "A = np.random.multivariate_normal(mean,cov, size = 26)\n",
    "for i in range(26):\n",
    "    encodings.append(A[i,:])"
   ]
  },
  {
   "cell_type": "code",
   "execution_count": 3,
   "metadata": {},
   "outputs": [
    {
     "data": {
      "text/plain": [
       "(26, 8)"
      ]
     },
     "execution_count": 3,
     "metadata": {},
     "output_type": "execute_result"
    }
   ],
   "source": [
    "np.shape(encodings)"
   ]
  },
  {
   "cell_type": "code",
   "execution_count": 6,
   "metadata": {},
   "outputs": [],
   "source": [
    "from dataset_gen import dataset_generator\n",
    "data_dict = dataset_generator(dataset='gaussian_red', distributed_bits= 3)"
   ]
  },
  {
   "cell_type": "code",
   "execution_count": 7,
   "metadata": {},
   "outputs": [
    {
     "data": {
      "text/plain": [
       "{'xy': Data(x=[2, 8], edge_index=[2, 1], y=[1, 1]),\n",
       " 'AA': Data(x=[2, 8], edge_index=[2, 1], y=[1, 1]),\n",
       " 'YY': Data(x=[2, 8], edge_index=[2, 1], y=[1, 1]),\n",
       " 'ZZ': Data(x=[2, 8], edge_index=[2, 1], y=[1, 1]),\n",
       " 'YZ': Data(x=[2, 8], edge_index=[2, 1], y=[1, 1]),\n",
       " 'ZT': Data(x=[2, 8], edge_index=[2, 1], y=[1, 1]),\n",
       " 'EY': Data(x=[2, 8], edge_index=[2, 1], y=[1, 1]),\n",
       " 'SZ': Data(x=[2, 8], edge_index=[2, 1], y=[1, 1]),\n",
       " 'train_loader': <torch_geometric.loader.dataloader.DataLoader at 0x7fe025dad4c0>,\n",
       " 'test_loader': <torch_geometric.loader.dataloader.DataLoader at 0x7fe025dada30>}"
      ]
     },
     "execution_count": 7,
     "metadata": {},
     "output_type": "execute_result"
    }
   ],
   "source": [
    "data_dict"
   ]
  },
  {
   "cell_type": "code",
   "execution_count": 15,
   "metadata": {},
   "outputs": [
    {
     "data": {
      "text/plain": [
       "8"
      ]
     },
     "execution_count": 15,
     "metadata": {},
     "output_type": "execute_result"
    }
   ],
   "source": [
    "import torch\n",
    "(data_dict['xy'].x).size()[1]"
   ]
  },
  {
   "cell_type": "code",
   "execution_count": null,
   "metadata": {},
   "outputs": [],
   "source": []
  }
 ],
 "metadata": {
  "kernelspec": {
   "display_name": "gnn_id",
   "language": "python",
   "name": "python3"
  },
  "language_info": {
   "codemirror_mode": {
    "name": "ipython",
    "version": 3
   },
   "file_extension": ".py",
   "mimetype": "text/x-python",
   "name": "python",
   "nbconvert_exporter": "python",
   "pygments_lexer": "ipython3",
   "version": "3.9.16"
  },
  "orig_nbformat": 4
 },
 "nbformat": 4,
 "nbformat_minor": 2
}
